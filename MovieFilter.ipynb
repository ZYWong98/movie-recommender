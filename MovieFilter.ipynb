{
 "cells": [
  {
   "cell_type": "code",
   "execution_count": 1,
   "id": "e4f88cee-7e16-4e59-88d0-814801f3d391",
   "metadata": {},
   "outputs": [],
   "source": [
    "import pandas as pd\n",
    "import json"
   ]
  },
  {
   "cell_type": "code",
   "execution_count": 2,
   "id": "d6dabcea-9ae1-40a8-b7d4-dfadcaf06e03",
   "metadata": {},
   "outputs": [],
   "source": [
    "def extract_names_from_json(csv_file, output_file):\n",
    "    # Load the CSV file\n",
    "    df = pd.read_csv(csv_file)\n",
    "\n",
    "    # Initialize a list to store names\n",
    "    names_list = []\n",
    "\n",
    "    # Loop through each row in the DataFrame\n",
    "    for index, row in df.iterrows():\n",
    "        json_string = row[0]  # Get the JSON string from the first column\n",
    "        try:\n",
    "            # Parse the JSON string\n",
    "            data = json.loads(json_string)\n",
    "            # Extract names\n",
    "            names = [item['name'] for item in data if 'name' in item]\n",
    "        except json.JSONDecodeError:\n",
    "            print(f\"Error parsing JSON in row {index + 1}: {json_string}\")\n",
    "            names = []\n",
    "\n",
    "        # Append names to the list, or keep it empty if there were no names\n",
    "        names_list.append(', '.join(names))\n",
    "\n",
    "    # Create a new DataFrame with extracted names\n",
    "    df['Keywords'] = names_list\n",
    "\n",
    "    # Save the modified DataFrame to a new CSV file\n",
    "    df.to_csv(output_file, index=False)\n",
    "    print(f\"Names extracted and saved to '{output_file}'\")"
   ]
  },
  {
   "cell_type": "code",
   "execution_count": 3,
   "id": "53e8d82c-f051-44d3-8d03-d24402654c56",
   "metadata": {},
   "outputs": [],
   "source": [
    "# Define file names\n",
    "input_csv_file = 'outputgenre.csv'     # Change to your input CSV file path"
   ]
  },
  {
   "cell_type": "code",
   "execution_count": 4,
   "id": "26906cd5-e266-4bf6-bbea-51d62d901741",
   "metadata": {},
   "outputs": [],
   "source": [
    "output_csv_file = 'outputKeyword.csv'    # Output file name"
   ]
  },
  {
   "cell_type": "code",
   "execution_count": 5,
   "id": "1dab1e0b-c50a-4647-b676-025624553afc",
   "metadata": {},
   "outputs": [
    {
     "name": "stdout",
     "output_type": "stream",
     "text": [
      "Names extracted and saved to 'outputKeyword.csv'\n"
     ]
    },
    {
     "name": "stderr",
     "output_type": "stream",
     "text": [
      "/var/folders/pg/799cly4j74vghrqp8blhct0h0000gp/T/ipykernel_12140/1215456539.py:10: FutureWarning: Series.__getitem__ treating keys as positions is deprecated. In a future version, integer keys will always be treated as labels (consistent with DataFrame behavior). To access a value by position, use `ser.iloc[pos]`\n",
      "  json_string = row[0]  # Get the JSON string from the first column\n"
     ]
    }
   ],
   "source": [
    "extract_names_from_json(input_csv_file, output_csv_file)"
   ]
  },
  {
   "cell_type": "code",
   "execution_count": null,
   "id": "bf44bc59-e500-4d6c-9daa-bf11fc8a8062",
   "metadata": {},
   "outputs": [],
   "source": []
  }
 ],
 "metadata": {
  "kernelspec": {
   "display_name": "Python 3 (ipykernel)",
   "language": "python",
   "name": "python3"
  },
  "language_info": {
   "codemirror_mode": {
    "name": "ipython",
    "version": 3
   },
   "file_extension": ".py",
   "mimetype": "text/x-python",
   "name": "python",
   "nbconvert_exporter": "python",
   "pygments_lexer": "ipython3",
   "version": "3.12.4"
  }
 },
 "nbformat": 4,
 "nbformat_minor": 5
}
